{
 "cells": [
  {
   "metadata": {
    "ExecuteTime": {
     "end_time": "2024-09-24T13:44:32.498090Z",
     "start_time": "2024-09-24T13:44:32.489243Z"
    }
   },
   "cell_type": "code",
   "source": [
    "import sys\n",
    "import petsc4py\n",
    "import numpy as np"
   ],
   "id": "1edff5c9499d515e",
   "outputs": [],
   "execution_count": 16
  },
  {
   "metadata": {
    "ExecuteTime": {
     "end_time": "2024-09-24T18:46:47.542883Z",
     "start_time": "2024-09-24T18:46:47.511580Z"
    }
   },
   "cell_type": "code",
   "source": [
    "def get_random_matrix(n: int,seed: int =10):\n",
    "    np.random.seed(seed=seed)\n",
    "    # PETSc is extensively programmable using the `PETSc.Options` database. For\n",
    "    # more information see `working with PETSc Options <petsc_options>`.\n",
    "    OptDB = PETSc.Options()\n",
    "    \n",
    "    # Grid size and spacing using a default value of ``5``. The user can specify a\n",
    "    # different number of points in each direction by passing the ``-n`` option to\n",
    "    # the script.\n",
    "    \n",
    "    # n = OptDB.getInt('n', N)\n",
    "    \n",
    "    # Matrices are instances of the `PETSc.Mat` class.    \n",
    "    A = PETSc.Mat()\n",
    "    \n",
    "    # Create the underlying PETSc C Mat object.\n",
    "    # You can omit the ``comm`` argument if your objects live on\n",
    "    # `PETSc.COMM_WORLD` but it is a dangerous choice to rely on default values\n",
    "    # for such important arguments.\n",
    "    \n",
    "    A.create(comm=PETSc.COMM_WORLD)\n",
    "    \n",
    "    # Specify global matrix shape with a tuple.\n",
    "    \n",
    "    \n",
    "    # A.setSizes(((n, n), (n , n)))\n",
    "    A.setSizes((n, n))\n",
    "    # A.setSizes(n)\n",
    "    \n",
    "    # The call above implicitly assumes that we leave the parallel decomposition of\n",
    "    # the matrix rows to PETSc by using `PETSc.DECIDE` for local sizes.\n",
    "    # It is equivalent to:\n",
    "    # A.setSizes(((PETSc.DECIDE, n), (PETSc.DECIDE, n ))\n",
    "    \n",
    "    # Here we use a sparse matrix of AIJ type\n",
    "    # Various `matrix formats <petsc4py.PETSc.Mat.Type>` can be selected:\n",
    "    A.setType(PETSc.Mat.Type.AIJ)\n",
    "    \n",
    "    # Finally we allow the user to set any options they want to on the matrix from\n",
    "    # the command line:\n",
    "    A.setFromOptions()\n",
    "    \n",
    "    # Insertion into some matrix types is vastly more efficient if we preallocate\n",
    "    # space rather than allow this to happen dynamically. Here we hint the number\n",
    "    # of nonzeros to be expected on each row.\n",
    "    A.setPreallocationNNZ(n)#??????????????????????????????????????????????????????????????????? !!!!!!!!!!!!!!!!!!!!!!!!!!!!!!!!!!!!!!!!!!!!!!!!!!!!!!!!!!!!!!!!!!!!!!!!!!!!!!!!!!!!!!!!!!!!!!!!!\n",
    "    \n",
    "    # We can now write out our finite difference matrix assembly using conventional\n",
    "    # Python syntax. `Mat.getOwnershipRange` is used to retrieve the range of rows\n",
    "    # local to this processor.\n",
    "    \n",
    "    \n",
    "    def index_to_grid(r):\n",
    "        \"\"\"Convert a row number into a grid point.\"\"\"\n",
    "        return (r // n, r % n)\n",
    "    \n",
    "    \n",
    "    rstart, rend = A.getOwnershipRange()\n",
    "    for row in range(rstart, rend):\n",
    "        for col in range(rstart, rend):\n",
    "            A[row,col]=np.random.rand()*10+0.1\n",
    "\n",
    "    \n",
    "    # At this stage, any exchange of information required in the matrix assembly\n",
    "    # process has not occurred. We achieve this by calling `Mat.assemblyBegin` and\n",
    "    # then `Mat.assemblyEnd`.\n",
    "    \n",
    "    A.assemblyBegin()\n",
    "    A.assemblyEnd()\n",
    "    \n",
    "    # We set up an additional option so that the user can print the matrix by\n",
    "    # passing ``-view_mat`` to the script.\n",
    "    \n",
    "    # A.viewFromOptions('-view_mat')\n",
    "    \n",
    "    # A.view()\n",
    "    return A\n",
    "\n",
    "# get_random_matrix(10,10)"
   ],
   "id": "5f326964b8e898f0",
   "outputs": [],
   "execution_count": 29
  },
  {
   "metadata": {
    "ExecuteTime": {
     "end_time": "2024-09-24T18:56:00.241964Z",
     "start_time": "2024-09-24T18:56:00.223988Z"
    }
   },
   "cell_type": "code",
   "source": [
    "N=10#matrix size\n",
    "# This demo is structured as a script to be executed using:\n",
    "#   $ python poisson2d.py\n",
    "#\n",
    "# potentially with additional options passed at the end of the command.\n",
    "#\n",
    "# At the start of your script, call `petsc4py.init` passing `sys.argv` so that\n",
    "# command-line arguments to the script are passed through to PETSc.\n",
    "petsc4py.init(sys.argv)\n",
    "\n",
    "# The full PETSc4py API is to be found in the `petsc4py.PETSc` module.\n",
    "from petsc4py import PETSc\n",
    "\n",
    "A=get_random_matrix(N)\n",
    "\n",
    "# PETSc represents all linear solvers as preconditioned Krylov subspace methods\n",
    "# of type `PETSc.KSP`. Here we create a KSP object for a conjugate gradient\n",
    "# solver preconditioned with an algebraic multigrid method.\n",
    "ksp = PETSc.KSP()\n",
    "ksp.create(comm=A.getComm())\n",
    "ksp.setType(PETSc.KSP.Type.CG)\n",
    "# ksp.getPC().setType(PETSc.PC.Type.GAMG)\n",
    "ksp.getPC().setType(PETSc.PC.Type.LU)\n",
    "\n",
    "# We set the matrix in our linear solver and allow the user to program the\n",
    "# solver with options.\n",
    "\n",
    "ksp.setOperators(A)\n",
    "ksp.setFromOptions()\n",
    "\n",
    "# Since the matrix knows its size and parallel distribution, we can retrieve\n",
    "# appropriately-scaled vectors using `Mat.createVecs`. PETSc vectors are\n",
    "# objects of type `PETSc.Vec`. Here we set the right-hand side of our system to\n",
    "# a vector of ones, and then solve.\n",
    "\n",
    "x, b = A.createVecs()\n",
    "# x.view()\n",
    "# b.view()\n",
    "b.set(1.0)\n",
    "ksp.solve(b, x)\n",
    "\n",
    "\n",
    "# Finally, allow the user to print the solution by passing ``-view_sol`` to the\n",
    "# script.\n",
    "\n",
    "x.viewFromOptions('-view_sol')\n",
    "# x.view()\n",
    "\n",
    "y=A.createVecLeft()\n",
    "A.mult(x,y)\n",
    "# y.view()\n",
    "# b.view()\n",
    "\n",
    "print(\"Residual= \", (y-b).sum())\n",
    "# Things to try\n",
    "# -------------\n",
    "#\n",
    "# - Show the solution with ``-view_sol``.\n",
    "# - Show the matrix with ``-view_mat``.\n",
    "# - Change the resolution with ``-n``.\n",
    "# - Use a direct solver by passing ``-ksp_type preonly -pc_type lu``.\n",
    "# - Run in parallel on two processors using:\n",
    "#\n",
    "#   .. code-block:: console\n",
    "#\n",
    "#       mpiexec -n 2 python poisson2d.py"
   ],
   "id": "9928f307c78d3043",
   "outputs": [
    {
     "name": "stdout",
     "output_type": "stream",
     "text": [
      "Residual=  3.774758283725532e-15\n"
     ]
    }
   ],
   "execution_count": 45
  },
  {
   "metadata": {
    "ExecuteTime": {
     "end_time": "2024-09-24T10:35:46.457812Z",
     "start_time": "2024-09-24T10:35:46.447768Z"
    }
   },
   "cell_type": "code",
   "source": "",
   "id": "ce109a82b9422891",
   "outputs": [],
   "execution_count": null
  },
  {
   "metadata": {},
   "cell_type": "code",
   "outputs": [],
   "execution_count": null,
   "source": "",
   "id": "95d57f5362c25136"
  }
 ],
 "metadata": {
  "kernelspec": {
   "display_name": "Python 3",
   "language": "python",
   "name": "python3"
  },
  "language_info": {
   "codemirror_mode": {
    "name": "ipython",
    "version": 2
   },
   "file_extension": ".py",
   "mimetype": "text/x-python",
   "name": "python",
   "nbconvert_exporter": "python",
   "pygments_lexer": "ipython2",
   "version": "2.7.6"
  }
 },
 "nbformat": 4,
 "nbformat_minor": 5
}
